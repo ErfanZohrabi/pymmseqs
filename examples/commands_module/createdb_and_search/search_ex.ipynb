{
 "cells": [
  {
   "cell_type": "code",
   "execution_count": 1,
   "metadata": {},
   "outputs": [],
   "source": [
    "from pymmseqs.commands import createdb, search"
   ]
  },
  {
   "cell_type": "code",
   "execution_count": 2,
   "metadata": {},
   "outputs": [
    {
     "name": "stdout",
     "output_type": "stream",
     "text": [
      "\n",
      "\u001b[34m--------------------\u001b[0m Running a mmseqs2 command \u001b[34m--------------------\u001b[0m\n",
      "✓ Detailed execution log has been saved\n",
      "✓ Database creation completed successfully\n",
      "  Results saved to: /Users/heispv/Documents/pymmseqs/examples/commands-module/search/out/rat_db\n",
      "\n",
      "\u001b[34m--------------------\u001b[0m Running a mmseqs2 command \u001b[34m--------------------\u001b[0m\n",
      "✓ Detailed execution log has been saved\n",
      "✓ Database creation completed successfully\n",
      "  Results saved to: /Users/heispv/Documents/pymmseqs/examples/commands-module/search/out/human_db\n"
     ]
    }
   ],
   "source": [
    "query_db = createdb(\"rat.fasta\", \"out/rat_db\")\n",
    "target_db = createdb(\"human.fasta\", \"out/human_db\")"
   ]
  },
  {
   "cell_type": "code",
   "execution_count": 5,
   "metadata": {},
   "outputs": [
    {
     "name": "stdout",
     "output_type": "stream",
     "text": [
      "\n",
      "\u001b[34m--------------------\u001b[0m Running a mmseqs2 command \u001b[34m--------------------\u001b[0m\n",
      "✓ Detailed execution log has been saved\n",
      "✓ Search completed successfully\n",
      "  Results saved to: /Users/heispv/Documents/pymmseqs/examples/commands-module/search/out/search_res\n"
     ]
    }
   ],
   "source": [
    "search_res = search(query_db.to_path(), target_db.to_path(), \"out/search_res\", \"out/tmp\", min_seq_id=0.9, max_seqs=10000)"
   ]
  },
  {
   "cell_type": "code",
   "execution_count": 6,
   "metadata": {},
   "outputs": [
    {
     "data": {
      "text/plain": [
       "'/Users/heispv/Documents/pymmseqs/examples/commands-module/search/out/search_res'"
      ]
     },
     "execution_count": 6,
     "metadata": {},
     "output_type": "execute_result"
    }
   ],
   "source": [
    "search_res.to_path()"
   ]
  },
  {
   "cell_type": "code",
   "execution_count": 7,
   "metadata": {},
   "outputs": [
    {
     "name": "stdout",
     "output_type": "stream",
     "text": [
      "Output is not readable. Executing convertalis command to convert the alignment database to a readable format.\n",
      "\n",
      "\u001b[34m--------------------\u001b[0m Running a mmseqs2 command \u001b[34m--------------------\u001b[0m\n",
      "✓ Detailed execution log has been saved\n",
      "✓ ConvertAlis completed successfully\n",
      "  Results saved to: /Users/heispv/Documents/pymmseqs/examples/commands-module/search/out/search_res.tsv\n"
     ]
    }
   ],
   "source": [
    "search_list = search_res.to_list()"
   ]
  },
  {
   "cell_type": "markdown",
   "metadata": {},
   "source": [
    "You see that since the output of the search is not a .tsv file, when you call a method which needs to read from a .tsv file, under the hood a ConvertAlis function is called to parse the output of the search."
   ]
  },
  {
   "cell_type": "code",
   "execution_count": 9,
   "metadata": {},
   "outputs": [
    {
     "data": {
      "text/plain": [
       "[{'query': 'A0A096MJN4',\n",
       "  'target': 'O43236',\n",
       "  'fident': 0.913,\n",
       "  'alnlen': 458,\n",
       "  'mismatch': 40,\n",
       "  'gapopen': 0,\n",
       "  'qstart': 2,\n",
       "  'qend': 459,\n",
       "  'tstart': 21,\n",
       "  'tend': 478,\n",
       "  'evalue': 2.4529999999999997e-287,\n",
       "  'bits': 875},\n",
       " {'query': 'A6N6J5',\n",
       "  'target': 'Q9P2L0',\n",
       "  'fident': 0.915,\n",
       "  'alnlen': 1180,\n",
       "  'mismatch': 99,\n",
       "  'gapopen': 0,\n",
       "  'qstart': 1,\n",
       "  'qend': 1169,\n",
       "  'tstart': 1,\n",
       "  'tend': 1180,\n",
       "  'evalue': 0.0,\n",
       "  'bits': 2257}]"
      ]
     },
     "execution_count": 9,
     "metadata": {},
     "output_type": "execute_result"
    }
   ],
   "source": [
    "search_list[:2]"
   ]
  },
  {
   "cell_type": "markdown",
   "metadata": {},
   "source": [
    "But if you want to run another method, since we parsed the output to a .tsv file once, there is no need to parse it again, and the method will read from the .tsv file directly."
   ]
  },
  {
   "cell_type": "code",
   "execution_count": 10,
   "metadata": {},
   "outputs": [
    {
     "data": {
      "text/html": [
       "<div>\n",
       "<style scoped>\n",
       "    .dataframe tbody tr th:only-of-type {\n",
       "        vertical-align: middle;\n",
       "    }\n",
       "\n",
       "    .dataframe tbody tr th {\n",
       "        vertical-align: top;\n",
       "    }\n",
       "\n",
       "    .dataframe thead th {\n",
       "        text-align: right;\n",
       "    }\n",
       "</style>\n",
       "<table border=\"1\" class=\"dataframe\">\n",
       "  <thead>\n",
       "    <tr style=\"text-align: right;\">\n",
       "      <th></th>\n",
       "      <th>query</th>\n",
       "      <th>target</th>\n",
       "      <th>fident</th>\n",
       "      <th>alnlen</th>\n",
       "      <th>mismatch</th>\n",
       "      <th>gapopen</th>\n",
       "      <th>qstart</th>\n",
       "      <th>qend</th>\n",
       "      <th>tstart</th>\n",
       "      <th>tend</th>\n",
       "      <th>evalue</th>\n",
       "      <th>bits</th>\n",
       "    </tr>\n",
       "  </thead>\n",
       "  <tbody>\n",
       "    <tr>\n",
       "      <th>0</th>\n",
       "      <td>A0A096MJN4</td>\n",
       "      <td>O43236</td>\n",
       "      <td>0.913</td>\n",
       "      <td>458</td>\n",
       "      <td>40</td>\n",
       "      <td>0</td>\n",
       "      <td>2</td>\n",
       "      <td>459</td>\n",
       "      <td>21</td>\n",
       "      <td>478</td>\n",
       "      <td>2.453000e-287</td>\n",
       "      <td>875</td>\n",
       "    </tr>\n",
       "    <tr>\n",
       "      <th>1</th>\n",
       "      <td>A6N6J5</td>\n",
       "      <td>Q9P2L0</td>\n",
       "      <td>0.915</td>\n",
       "      <td>1180</td>\n",
       "      <td>99</td>\n",
       "      <td>0</td>\n",
       "      <td>1</td>\n",
       "      <td>1169</td>\n",
       "      <td>1</td>\n",
       "      <td>1180</td>\n",
       "      <td>0.000000e+00</td>\n",
       "      <td>2257</td>\n",
       "    </tr>\n",
       "    <tr>\n",
       "      <th>2</th>\n",
       "      <td>D3ZD32</td>\n",
       "      <td>Q8TDI0</td>\n",
       "      <td>0.911</td>\n",
       "      <td>1952</td>\n",
       "      <td>173</td>\n",
       "      <td>0</td>\n",
       "      <td>1</td>\n",
       "      <td>1946</td>\n",
       "      <td>1</td>\n",
       "      <td>1952</td>\n",
       "      <td>0.000000e+00</td>\n",
       "      <td>3713</td>\n",
       "    </tr>\n",
       "    <tr>\n",
       "      <th>3</th>\n",
       "      <td>D4A1R8</td>\n",
       "      <td>Q99829</td>\n",
       "      <td>0.913</td>\n",
       "      <td>536</td>\n",
       "      <td>46</td>\n",
       "      <td>0</td>\n",
       "      <td>1</td>\n",
       "      <td>535</td>\n",
       "      <td>1</td>\n",
       "      <td>536</td>\n",
       "      <td>0.000000e+00</td>\n",
       "      <td>1023</td>\n",
       "    </tr>\n",
       "    <tr>\n",
       "      <th>4</th>\n",
       "      <td>F1M4A4</td>\n",
       "      <td>Q12756</td>\n",
       "      <td>0.924</td>\n",
       "      <td>1707</td>\n",
       "      <td>128</td>\n",
       "      <td>0</td>\n",
       "      <td>1</td>\n",
       "      <td>1707</td>\n",
       "      <td>1</td>\n",
       "      <td>1690</td>\n",
       "      <td>0.000000e+00</td>\n",
       "      <td>3301</td>\n",
       "    </tr>\n",
       "  </tbody>\n",
       "</table>\n",
       "</div>"
      ],
      "text/plain": [
       "        query  target  fident  alnlen  mismatch  gapopen  qstart  qend  \\\n",
       "0  A0A096MJN4  O43236   0.913     458        40        0       2   459   \n",
       "1      A6N6J5  Q9P2L0   0.915    1180        99        0       1  1169   \n",
       "2      D3ZD32  Q8TDI0   0.911    1952       173        0       1  1946   \n",
       "3      D4A1R8  Q99829   0.913     536        46        0       1   535   \n",
       "4      F1M4A4  Q12756   0.924    1707       128        0       1  1707   \n",
       "\n",
       "   tstart  tend         evalue  bits  \n",
       "0      21   478  2.453000e-287   875  \n",
       "1       1  1180   0.000000e+00  2257  \n",
       "2       1  1952   0.000000e+00  3713  \n",
       "3       1   536   0.000000e+00  1023  \n",
       "4       1  1690   0.000000e+00  3301  "
      ]
     },
     "execution_count": 10,
     "metadata": {},
     "output_type": "execute_result"
    }
   ],
   "source": [
    "df = search_res.to_pandas()\n",
    "df.head()"
   ]
  },
  {
   "cell_type": "code",
   "execution_count": 11,
   "metadata": {},
   "outputs": [
    {
     "data": {
      "text/plain": [
       "{'query': 'A0A096MJN4',\n",
       " 'target': 'O43236',\n",
       " 'fident': '0.913',\n",
       " 'alnlen': '458',\n",
       " 'mismatch': '40',\n",
       " 'gapopen': '0',\n",
       " 'qstart': '2',\n",
       " 'qend': '459',\n",
       " 'tstart': '21',\n",
       " 'tend': '478',\n",
       " 'evalue': '2.453E-287',\n",
       " 'bits': '875'}"
      ]
     },
     "execution_count": 11,
     "metadata": {},
     "output_type": "execute_result"
    }
   ],
   "source": [
    "search_gen = search_res.to_gen()\n",
    "next(search_gen)\n"
   ]
  },
  {
   "cell_type": "code",
   "execution_count": null,
   "metadata": {},
   "outputs": [],
   "source": []
  }
 ],
 "metadata": {
  "kernelspec": {
   "display_name": ".venv",
   "language": "python",
   "name": "python3"
  },
  "language_info": {
   "codemirror_mode": {
    "name": "ipython",
    "version": 3
   },
   "file_extension": ".py",
   "mimetype": "text/x-python",
   "name": "python",
   "nbconvert_exporter": "python",
   "pygments_lexer": "ipython3",
   "version": "3.10.16"
  }
 },
 "nbformat": 4,
 "nbformat_minor": 2
}
