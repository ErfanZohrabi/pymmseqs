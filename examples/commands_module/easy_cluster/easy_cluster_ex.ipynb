{
 "cells": [
  {
   "cell_type": "markdown",
   "metadata": {},
   "source": [
    "We use easy_cluster from pymmseqs.commands to cluster the rat sequences.\n",
    "\n",
    "Then we use EasyClusterParser from pymmseqs.parsers to parse the clusters and get the representative sequences."
   ]
  },
  {
   "cell_type": "code",
   "execution_count": 1,
   "metadata": {},
   "outputs": [],
   "source": [
    "from pymmseqs.commands import easy_cluster"
   ]
  },
  {
   "cell_type": "code",
   "execution_count": 2,
   "metadata": {},
   "outputs": [
    {
     "name": "stdout",
     "output_type": "stream",
     "text": [
      "\n",
      "\u001b[34m--------------------\u001b[0m Running a mmseqs2 command \u001b[34m--------------------\u001b[0m\n",
      "✓ Detailed execution log has been saved\n",
      "✓ Easy Cluster completed successfully\n",
      "  Results saved to: /Users/heispv/Documents/pymmseqs/examples/commands-module/easy_cluster/output/clusters\n"
     ]
    }
   ],
   "source": [
    "rat_cluster = easy_cluster(\n",
    "    fasta_files=\"rat.fasta\",\n",
    "    cluster_prefix=\"output/clusters\",\n",
    "    tmp_dir=\"output/tmp\",\n",
    "\n",
    "    min_seq_id=0.3,\n",
    "\n",
    ")"
   ]
  },
  {
   "cell_type": "code",
   "execution_count": 3,
   "metadata": {},
   "outputs": [
    {
     "data": {
      "text/plain": [
       "<pymmseqs.parsers.easy_cluster_parser.EasyClusterParser at 0x107073f40>"
      ]
     },
     "execution_count": 3,
     "metadata": {},
     "output_type": "execute_result"
    }
   ],
   "source": [
    "rat_cluster"
   ]
  },
  {
   "cell_type": "markdown",
   "metadata": {},
   "source": [
    "Now the rat_cluster is a EasyClusterParser object."
   ]
  },
  {
   "cell_type": "code",
   "execution_count": 4,
   "metadata": {},
   "outputs": [
    {
     "data": {
      "text/plain": [
       "[{'rep': 'A0A096MJY4',\n",
       "  'members': [{'seq_id': 'A0A096MJY4',\n",
       "    'header': 'sp|A0A096MJY4|MEF2C_RAT Myocyte-specific enhancer factor 2C OS=Rattus norvegicus OX=10116 GN=Mef2c PE=1 SV=1',\n",
       "    'sequence': 'MGRKKIQITRIMDERNRQVTFTKRKFGLMKKAYELSVLCDCEIALIIFNSTNKLFQYASTDMDKVLLKYTEYNEPHESRTNSDIVETLRKKGLNGCDSPDPDADDSVGHSPESEDKYRKINEDIDLMISRQRLCAVPPPNFEMPVTIPVSSHNSLVYSNPVSSLGNPNLLPLAHPSLQRNSMSPGVTHRPPSAGNTGGLMGGDLTSGAGTSAGNGYGNPRNSPGLLVSPGNLNKNIQAKSPPPMNLGMNNRKPDLRVLIPPGSKNTMPSVSEDVDLLLNQRINNSQSAQSLATPVVSVATPTLPGQGMGGYPSAISTTYGTEYSLSSADLSSLSGFNTASALHLGSVTGWQQQHLHNMPPSALSQLGACTSTHLSQSSNLSLPSTQSLNIKSEPVSPPRDRTTTPSRYPQHTRHEAGRSPVDSLSSCSSSYDGSDREDHRNEFHSPIGLTRPSPDERESPSVKRMRLSEGWAT'},\n",
       "   {'seq_id': 'O89038',\n",
       "    'header': 'sp|O89038|MEF2D_RAT Myocyte-specific enhancer factor 2D OS=Rattus norvegicus OX=10116 GN=Mef2d PE=1 SV=1',\n",
       "    'sequence': 'MGRKKIQIQRITDERNRQVTFTKRKFGLMKKAYELSVLCDCEIALIIFNHSNKLFQYASTDMDKVLLKYTEYNEPHESRTNADIIETLRKKGFNGCDSPEPDGEDSLEQSPLLEDKYRRASEELDGLFRRYGSSVPAPNFAMPVTVPVSNQSSMQFSNPSSSLVTPSLVTSSLTDPRLLSPQQPALQRNSVSPGLPQRPASAGAMLGRDLNSANGACPNPVGNGYVSARASPGLLPVANGNGLNKVIPAKSPPPPTHNTQLGAPSRKPDLRVITSQGGKGLMHHLNNAQRLGVSQSTHSLTTPVVSVATPSLLSQGLPFSSMPTAYNTDYQLPSAELSSLPAFSSPAGLALGNVTAWQQPQQPQQPQPPQPPQSQPQPPQPQPQQPPQQQPHLVPVSLSNLIPGSPLPHVGAALTVTTHPHISIKSEPVSPSRERSPAPPPPAVFPAARPEPGEGLSSPAGGSYETGDRDDGRGDFGPTLGLLRPAPEPEAEGSAVKRMRLDTWTLK'},\n",
       "   {'seq_id': 'Q2MJT0',\n",
       "    'header': 'sp|Q2MJT0|MEF2A_RAT Myocyte-specific enhancer factor 2A OS=Rattus norvegicus OX=10116 GN=Mef2a PE=1 SV=1',\n",
       "    'sequence': 'MGRKKIQITRIMDERNRQVTFTKRKFGLMKKAYELSVLCDCEIALIIFNSSNKLFQYASTDMDKVLLKYTEYNEPHESRTNSDIVEALNKKEHRGCDSPDPDTSYVLTPHTEEKYKKINEEFDNMMRNHKIAPGLPPQNFSMSVTVPVTSPNALSYTNPGSSLVSPSLAASSTLAESSMLSPPPATLHRNVSPGAPQRPPSTGSAGGMLSTTDLTVPNGAGNGPVGNGFVDSRASPNLIGNTGANSVGKVMPTKSPPPPGGGSVGMNSRKPDLRVVIPPSSKGMMPPLNAQRISSSQATQPLATPVVSVTTPSLPPQGLVYSAMPTAYNTDYSLTSADLSALQGFTSPGMLSLGQASAWQQHHLGQAALSSLVAGGQLSQGSNLSINTNQNINIKTEPISPPRDRMTPSGFQQQQQQQPQQQPPPQPPQPQPQPRQEMGRSPVDSLSSSSSSYDGSDREDPRGDFHSPIVLGRPPNAEDRESPSVKRMRMDTWVT'}]},\n",
       " {'rep': 'A0A096MK47',\n",
       "  'members': [{'seq_id': 'A0A096MK47',\n",
       "    'header': 'sp|A0A096MK47|MLIP_RAT Muscular LMNA-interacting protein OS=Rattus norvegicus OX=10116 GN=Mlip PE=1 SV=2',\n",
       "    'sequence': 'MTSCVLAGSIETTPKVSPGDSEAKPLIFTFVPTLRRLPTHIQLADTSKFLVKIPEEPTDKNPETVNRFEYSDHMTFSCESKEERDQRILDYPSEVSGKNSQRKEFNTKEPQGMQKGDLFKAEYVFIVDSDGEDEATCRQGEQGPPGATGNIATRPKSLAISSSLASDVVRPKVRGVDVKVSSHPEIPHGIAPQQKHGQLTSPTTSEQLAHKPPAFSFVSPTNQKTPPVPAKVSGTTVLEEFHIRRLDVHGASEEETATYFHTTAHDSPLPAWKGASTLVFSPSAQLPGSSLCGSNVADHTRGLAPEAQKKVSTSSALNPREDVRTSPSPASGASLRSPSASYIPVRIVMHSLSPSPKPLTSSSHGSLSTVCSQTSSSGNLSKSGLKSPVPSRLSLLTAILKSNPSHQRPLSPASCPTFSLNSLASSTLTLDQKIKQTPSTPKKSLSSCSLTTGSTEQEQASAESHQPCHLSFFSKTTPLSQAQPPSPPALASSSYAATDTEKIPGSTLRSSTTPPQSQTDLFSLADVPSVTPGLSPLSSSKGRKDGDLRAPEKNRNICTRPSTLSFIPPINESTALSSSGKCFHPSPALSDLIDRSKRTCSQRHSDQRPNPSALPTPPVSRAGSASHPHLGYSILPPESSLTQALQRSPSALHPSCGSATCPSRTGMPDSTASNRSSRVSTPSLPVSLTRTKELISPCALSMSAGPENKKPKQYKTKSSYKAFAAIPTNTLLLEQKALDEPARTESNSKASVSDLPVELCFPAQLRQQTEELCATIDKVLQDSLSMHSSDSPSRPSQTMLGSETIKTPTTHPRAAGRETKYANLSSSSSTTSESQLTKPGVIRPVPIKSKLFLKKEEEVYEPNPFSKYLEDSSGLFSEQDMAIPHKPVSLHPLYQSKLYPPAKSLLRPQTLSHADCLTPGPFSHLSSFSLRDEQEKSPTLLSQDTYNKPGHPMVTIPEHDTLDSKE'}]},\n",
       " {'rep': 'A0A0G2JTR4',\n",
       "  'members': [{'seq_id': 'A0A0G2JTR4',\n",
       "    'header': 'sp|A0A0G2JTR4|ABR_RAT Active breakpoint cluster region-related protein OS=Rattus norvegicus OX=10116 GN=Abr PE=1 SV=2',\n",
       "    'sequence': 'MEPLSHRGLPRLSWIDTLYSNFSYGAEDYDAEGHEEQKGPPEGSETMPYIDESPTMSPQLSARSQGGGESISPTPPEGLAPGVEAGKGLEMRKLVLSGFLASEEIYINQLEALLLPMKPLKATATTSQPVLTIQQIETIFYKIQDIYEIHKEFYDNLCPKVQQWDSQVTMGHLFQKLASQLGVYKAFVDNYKVALETAEKCSQSNNQFQKISEELKVKGPKDSKDSHTSVTMEALLYKPIDRVTRSTLVLHDLLKHTPVDHPDYPLLQDALRISQNFLSSINEDIDPRRTAVTTPKGETRQLVKDGFLVEMSESSRKLRHVFLFTDVLLCAKLKKTSAGKHQQYDCKWYIPLADLVFPSPEESEASPQVHPFPDHELEDMKVKISALKSEIQKEKANKGQSRAIERLKKKMFENEFLLLLNSPTIPFRIHNRNGKSYLFLLSSDYERSEWREAIQKLQKKDLQAFVLSSVELQVLTGSCFKLRTVHNIPVTSNKDDDESPGLYGFLHVIVHSAKGFKQSANLYCTLEVDSFGYFVSKAKTRVFRDTTEPKWDEEFEIELEGSQSLRILCYEKCYDKTKVNKDNNEIVDKIMGKGQIQLDPQTVESKNWHTDVIEMNGIKVEFSMKFTSRDMSLKRTPSKKQTGVFGVKISVVTKRERSKVPYIVRQCIEEVEKRGIEEVGIYRISGVATDIQALKAVFDANNKDILLMLSDMDINAIAGTLKLYFRELPEPLLTDRLYPAFMEGIALSDPAAKENCMMHLLRSLPDPNLITFLFLLEHLKRVAEKEPINKMSLHNLATVFGPTLLRPSEVESKAHLTSAADIWSHDVMAQVQVLLYYLQHPPISFAELKRNTLYFSTDV'}]}]"
      ]
     },
     "execution_count": 4,
     "metadata": {},
     "output_type": "execute_result"
    }
   ],
   "source": [
    "rat_list = rat_cluster.to_list()\n",
    "rat_list[:3]"
   ]
  },
  {
   "cell_type": "code",
   "execution_count": 5,
   "metadata": {},
   "outputs": [
    {
     "data": {
      "text/html": [
       "<div>\n",
       "<style scoped>\n",
       "    .dataframe tbody tr th:only-of-type {\n",
       "        vertical-align: middle;\n",
       "    }\n",
       "\n",
       "    .dataframe tbody tr th {\n",
       "        vertical-align: top;\n",
       "    }\n",
       "\n",
       "    .dataframe thead th {\n",
       "        text-align: right;\n",
       "    }\n",
       "</style>\n",
       "<table border=\"1\" class=\"dataframe\">\n",
       "  <thead>\n",
       "    <tr style=\"text-align: right;\">\n",
       "      <th></th>\n",
       "      <th>rep</th>\n",
       "      <th>seq_id</th>\n",
       "      <th>header</th>\n",
       "      <th>sequence</th>\n",
       "    </tr>\n",
       "  </thead>\n",
       "  <tbody>\n",
       "    <tr>\n",
       "      <th>0</th>\n",
       "      <td>A0A096MJY4</td>\n",
       "      <td>A0A096MJY4</td>\n",
       "      <td>sp|A0A096MJY4|MEF2C_RAT Myocyte-specific enhan...</td>\n",
       "      <td>MGRKKIQITRIMDERNRQVTFTKRKFGLMKKAYELSVLCDCEIALI...</td>\n",
       "    </tr>\n",
       "    <tr>\n",
       "      <th>1</th>\n",
       "      <td>A0A096MJY4</td>\n",
       "      <td>O89038</td>\n",
       "      <td>sp|O89038|MEF2D_RAT Myocyte-specific enhancer ...</td>\n",
       "      <td>MGRKKIQIQRITDERNRQVTFTKRKFGLMKKAYELSVLCDCEIALI...</td>\n",
       "    </tr>\n",
       "    <tr>\n",
       "      <th>2</th>\n",
       "      <td>A0A096MJY4</td>\n",
       "      <td>Q2MJT0</td>\n",
       "      <td>sp|Q2MJT0|MEF2A_RAT Myocyte-specific enhancer ...</td>\n",
       "      <td>MGRKKIQITRIMDERNRQVTFTKRKFGLMKKAYELSVLCDCEIALI...</td>\n",
       "    </tr>\n",
       "    <tr>\n",
       "      <th>3</th>\n",
       "      <td>A0A096MK47</td>\n",
       "      <td>A0A096MK47</td>\n",
       "      <td>sp|A0A096MK47|MLIP_RAT Muscular LMNA-interacti...</td>\n",
       "      <td>MTSCVLAGSIETTPKVSPGDSEAKPLIFTFVPTLRRLPTHIQLADT...</td>\n",
       "    </tr>\n",
       "    <tr>\n",
       "      <th>4</th>\n",
       "      <td>A0A0G2JTR4</td>\n",
       "      <td>A0A0G2JTR4</td>\n",
       "      <td>sp|A0A0G2JTR4|ABR_RAT Active breakpoint cluste...</td>\n",
       "      <td>MEPLSHRGLPRLSWIDTLYSNFSYGAEDYDAEGHEEQKGPPEGSET...</td>\n",
       "    </tr>\n",
       "  </tbody>\n",
       "</table>\n",
       "</div>"
      ],
      "text/plain": [
       "          rep      seq_id                                             header  \\\n",
       "0  A0A096MJY4  A0A096MJY4  sp|A0A096MJY4|MEF2C_RAT Myocyte-specific enhan...   \n",
       "1  A0A096MJY4      O89038  sp|O89038|MEF2D_RAT Myocyte-specific enhancer ...   \n",
       "2  A0A096MJY4      Q2MJT0  sp|Q2MJT0|MEF2A_RAT Myocyte-specific enhancer ...   \n",
       "3  A0A096MK47  A0A096MK47  sp|A0A096MK47|MLIP_RAT Muscular LMNA-interacti...   \n",
       "4  A0A0G2JTR4  A0A0G2JTR4  sp|A0A0G2JTR4|ABR_RAT Active breakpoint cluste...   \n",
       "\n",
       "                                            sequence  \n",
       "0  MGRKKIQITRIMDERNRQVTFTKRKFGLMKKAYELSVLCDCEIALI...  \n",
       "1  MGRKKIQIQRITDERNRQVTFTKRKFGLMKKAYELSVLCDCEIALI...  \n",
       "2  MGRKKIQITRIMDERNRQVTFTKRKFGLMKKAYELSVLCDCEIALI...  \n",
       "3  MTSCVLAGSIETTPKVSPGDSEAKPLIFTFVPTLRRLPTHIQLADT...  \n",
       "4  MEPLSHRGLPRLSWIDTLYSNFSYGAEDYDAEGHEEQKGPPEGSET...  "
      ]
     },
     "execution_count": 5,
     "metadata": {},
     "output_type": "execute_result"
    }
   ],
   "source": [
    "df = rat_cluster.to_pandas()\n",
    "df.head()\n"
   ]
  },
  {
   "cell_type": "markdown",
   "metadata": {},
   "source": [
    "If your cluster is very large, you can use `to_gen()` method to get the cluster generator."
   ]
  },
  {
   "cell_type": "code",
   "execution_count": 6,
   "metadata": {},
   "outputs": [],
   "source": [
    "rat_gen = rat_cluster.to_gen()\n",
    "\n",
    "for cluster in rat_gen:\n",
    "    if len(cluster[\"members\"]) > 10:\n",
    "        filtered_cluster = cluster\n",
    "        break"
   ]
  },
  {
   "cell_type": "code",
   "execution_count": 7,
   "metadata": {},
   "outputs": [
    {
     "name": "stdout",
     "output_type": "stream",
     "text": [
      "Cluster representative: P00763\n",
      "The filtered cluster has 14 members.\n",
      "The first 5 members are: ['P00763', 'P00762', 'P27435', 'P36375', 'P00759']\n"
     ]
    }
   ],
   "source": [
    "print(f\"Cluster representative: {filtered_cluster['rep']}\")\n",
    "print(f\"The filtered cluster has {len(filtered_cluster['members'])} members.\")\n",
    "\n",
    "# Extract the members ids\n",
    "members_ids = [member[\"seq_id\"] for member in filtered_cluster[\"members\"]]\n",
    "\n",
    "print(f\"The first 5 members are: {members_ids[:5]}\")\n"
   ]
  },
  {
   "cell_type": "code",
   "execution_count": null,
   "metadata": {},
   "outputs": [],
   "source": []
  }
 ],
 "metadata": {
  "kernelspec": {
   "display_name": ".venv",
   "language": "python",
   "name": "python3"
  },
  "language_info": {
   "codemirror_mode": {
    "name": "ipython",
    "version": 3
   },
   "file_extension": ".py",
   "mimetype": "text/x-python",
   "name": "python",
   "nbconvert_exporter": "python",
   "pygments_lexer": "ipython3",
   "version": "3.10.16"
  }
 },
 "nbformat": 4,
 "nbformat_minor": 2
}
