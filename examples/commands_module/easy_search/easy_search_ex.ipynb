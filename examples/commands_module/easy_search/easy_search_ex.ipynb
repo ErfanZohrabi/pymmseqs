{
 "cells": [
  {
   "cell_type": "code",
   "execution_count": 1,
   "metadata": {},
   "outputs": [],
   "source": [
    "from pymmseqs.commands import easy_search"
   ]
  },
  {
   "cell_type": "code",
   "execution_count": 4,
   "metadata": {},
   "outputs": [
    {
     "name": "stdout",
     "output_type": "stream",
     "text": [
      "\n",
      "\u001b[34m--------------------\u001b[0m Running a mmseqs2 command \u001b[34m--------------------\u001b[0m\n",
      "✓ Detailed execution log has been saved\n",
      "✓ Easy Search completed successfully\n",
      "  Results saved to: /Users/heispv/Documents/pymmseqs/examples/commands-module/easy_search/cluster_output/clust\n"
     ]
    }
   ],
   "source": [
    "search_res = easy_search(\n",
    "    query_fasta=\"rat.fasta\",\n",
    "    target_fasta_or_db=\"human.fasta\",\n",
    "    alignment_file=\"cluster_output/clust\",\n",
    "    tmp_dir=\"cluster_output/tmp\",\n",
    "    min_seq_id=0.9,\n",
    "    max_seqs=10000,\n",
    ")\n"
   ]
  },
  {
   "cell_type": "markdown",
   "metadata": {},
   "source": [
    "You can also use:\n",
    "```python\n",
    "search_res = easy_search(\n",
    "    \"rat.fasta\",\n",
    "    \"human.fasta\",\n",
    "    \"cluster_output/clust\",\n",
    "    \"cluster_output/tmp\",\n",
    "    min_seq_id=0.9,\n",
    "    max_seqs=10000,\n",
    ")\n",
    "```"
   ]
  },
  {
   "cell_type": "code",
   "execution_count": 6,
   "metadata": {},
   "outputs": [],
   "source": [
    "search_gen = search_res.to_gen()\n"
   ]
  },
  {
   "cell_type": "code",
   "execution_count": 7,
   "metadata": {},
   "outputs": [
    {
     "data": {
      "text/plain": [
       "{'query': 'A0A096MJN4',\n",
       " 'target': 'O43236',\n",
       " 'fident': '0.925',\n",
       " 'alnlen': '458',\n",
       " 'mismatch': '34',\n",
       " 'gapopen': '0',\n",
       " 'qstart': '2',\n",
       " 'qend': '459',\n",
       " 'tstart': '21',\n",
       " 'tend': '478',\n",
       " 'evalue': '2.453E-287',\n",
       " 'bits': '875'}"
      ]
     },
     "execution_count": 7,
     "metadata": {},
     "output_type": "execute_result"
    }
   ],
   "source": [
    "next(search_gen)"
   ]
  },
  {
   "cell_type": "code",
   "execution_count": 9,
   "metadata": {},
   "outputs": [
    {
     "data": {
      "text/plain": [
       "'/Users/heispv/Documents/pymmseqs/examples/commands-module/easy_search/cluster_output/clust'"
      ]
     },
     "execution_count": 9,
     "metadata": {},
     "output_type": "execute_result"
    }
   ],
   "source": [
    "search_res.to_path()"
   ]
  },
  {
   "cell_type": "code",
   "execution_count": 13,
   "metadata": {},
   "outputs": [
    {
     "data": {
      "text/plain": [
       "[{'query': 'Q6LED0',\n",
       "  'target': 'P84243',\n",
       "  'fident': 0.963,\n",
       "  'alnlen': 136,\n",
       "  'mismatch': 5,\n",
       "  'gapopen': 0,\n",
       "  'qstart': 1,\n",
       "  'qend': 136,\n",
       "  'tstart': 1,\n",
       "  'tend': 136,\n",
       "  'evalue': 6.603e-77,\n",
       "  'bits': 249},\n",
       " {'query': 'Q6LED0',\n",
       "  'target': 'Q6NXT2',\n",
       "  'fident': 0.933,\n",
       "  'alnlen': 136,\n",
       "  'mismatch': 9,\n",
       "  'gapopen': 0,\n",
       "  'qstart': 1,\n",
       "  'qend': 136,\n",
       "  'tstart': 1,\n",
       "  'tend': 135,\n",
       "  'evalue': 1.0750000000000001e-71,\n",
       "  'bits': 234}]"
      ]
     },
     "execution_count": 13,
     "metadata": {},
     "output_type": "execute_result"
    }
   ],
   "source": [
    "search_list = search_res.to_list()\n",
    "search_list[-2:]"
   ]
  },
  {
   "cell_type": "code",
   "execution_count": 10,
   "metadata": {},
   "outputs": [
    {
     "data": {
      "text/html": [
       "<div>\n",
       "<style scoped>\n",
       "    .dataframe tbody tr th:only-of-type {\n",
       "        vertical-align: middle;\n",
       "    }\n",
       "\n",
       "    .dataframe tbody tr th {\n",
       "        vertical-align: top;\n",
       "    }\n",
       "\n",
       "    .dataframe thead th {\n",
       "        text-align: right;\n",
       "    }\n",
       "</style>\n",
       "<table border=\"1\" class=\"dataframe\">\n",
       "  <thead>\n",
       "    <tr style=\"text-align: right;\">\n",
       "      <th></th>\n",
       "      <th>query</th>\n",
       "      <th>target</th>\n",
       "      <th>fident</th>\n",
       "      <th>alnlen</th>\n",
       "      <th>mismatch</th>\n",
       "      <th>gapopen</th>\n",
       "      <th>qstart</th>\n",
       "      <th>qend</th>\n",
       "      <th>tstart</th>\n",
       "      <th>tend</th>\n",
       "      <th>evalue</th>\n",
       "      <th>bits</th>\n",
       "    </tr>\n",
       "  </thead>\n",
       "  <tbody>\n",
       "    <tr>\n",
       "      <th>0</th>\n",
       "      <td>A0A096MJN4</td>\n",
       "      <td>O43236</td>\n",
       "      <td>0.925</td>\n",
       "      <td>458</td>\n",
       "      <td>34</td>\n",
       "      <td>0</td>\n",
       "      <td>2</td>\n",
       "      <td>459</td>\n",
       "      <td>21</td>\n",
       "      <td>478</td>\n",
       "      <td>2.453000e-287</td>\n",
       "      <td>875</td>\n",
       "    </tr>\n",
       "    <tr>\n",
       "      <th>1</th>\n",
       "      <td>A0A096MJY4</td>\n",
       "      <td>Q06413</td>\n",
       "      <td>0.995</td>\n",
       "      <td>473</td>\n",
       "      <td>2</td>\n",
       "      <td>0</td>\n",
       "      <td>1</td>\n",
       "      <td>473</td>\n",
       "      <td>1</td>\n",
       "      <td>473</td>\n",
       "      <td>4.118000e-305</td>\n",
       "      <td>927</td>\n",
       "    </tr>\n",
       "    <tr>\n",
       "      <th>2</th>\n",
       "      <td>A0A0G2JTR4</td>\n",
       "      <td>Q12979</td>\n",
       "      <td>0.984</td>\n",
       "      <td>859</td>\n",
       "      <td>14</td>\n",
       "      <td>0</td>\n",
       "      <td>1</td>\n",
       "      <td>859</td>\n",
       "      <td>1</td>\n",
       "      <td>859</td>\n",
       "      <td>0.000000e+00</td>\n",
       "      <td>1701</td>\n",
       "    </tr>\n",
       "    <tr>\n",
       "      <th>3</th>\n",
       "      <td>A0A0G2JTZ2</td>\n",
       "      <td>P35712</td>\n",
       "      <td>0.966</td>\n",
       "      <td>828</td>\n",
       "      <td>28</td>\n",
       "      <td>0</td>\n",
       "      <td>1</td>\n",
       "      <td>827</td>\n",
       "      <td>1</td>\n",
       "      <td>828</td>\n",
       "      <td>0.000000e+00</td>\n",
       "      <td>1535</td>\n",
       "    </tr>\n",
       "    <tr>\n",
       "      <th>4</th>\n",
       "      <td>A0A0G2JUG7</td>\n",
       "      <td>Q6DN90</td>\n",
       "      <td>0.955</td>\n",
       "      <td>941</td>\n",
       "      <td>42</td>\n",
       "      <td>0</td>\n",
       "      <td>24</td>\n",
       "      <td>962</td>\n",
       "      <td>23</td>\n",
       "      <td>963</td>\n",
       "      <td>0.000000e+00</td>\n",
       "      <td>1738</td>\n",
       "    </tr>\n",
       "  </tbody>\n",
       "</table>\n",
       "</div>"
      ],
      "text/plain": [
       "        query  target  fident  alnlen  ...  tstart  tend         evalue  bits\n",
       "0  A0A096MJN4  O43236   0.925     458  ...      21   478  2.453000e-287   875\n",
       "1  A0A096MJY4  Q06413   0.995     473  ...       1   473  4.118000e-305   927\n",
       "2  A0A0G2JTR4  Q12979   0.984     859  ...       1   859   0.000000e+00  1701\n",
       "3  A0A0G2JTZ2  P35712   0.966     828  ...       1   828   0.000000e+00  1535\n",
       "4  A0A0G2JUG7  Q6DN90   0.955     941  ...      23   963   0.000000e+00  1738\n",
       "\n",
       "[5 rows x 12 columns]"
      ]
     },
     "execution_count": 10,
     "metadata": {},
     "output_type": "execute_result"
    }
   ],
   "source": [
    "df = search_res.to_pandas()\n",
    "df.head()"
   ]
  },
  {
   "cell_type": "code",
   "execution_count": null,
   "metadata": {},
   "outputs": [],
   "source": []
  }
 ],
 "metadata": {
  "kernelspec": {
   "display_name": ".venv",
   "language": "python",
   "name": "python3"
  },
  "language_info": {
   "codemirror_mode": {
    "name": "ipython",
    "version": 3
   },
   "file_extension": ".py",
   "mimetype": "text/x-python",
   "name": "python",
   "nbconvert_exporter": "python",
   "pygments_lexer": "ipython3",
   "version": "3.10.16"
  }
 },
 "nbformat": 4,
 "nbformat_minor": 2
}
